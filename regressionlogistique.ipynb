{
 "cells": [
  {
   "cell_type": "code",
   "execution_count": 1,
   "metadata": {},
   "outputs": [],
   "source": [
    "# init\n",
    "import pandas as pd\n",
    "import h5py\n",
    "import numpy as np\n",
    "#import matplotlib.pyplot as plt\n",
    "\n",
    "#X_train = h5py.File(\"X_train.h5\", \"r\")\n",
    "y_train = pd.read_csv(\"y_train.csv\")"
   ]
  },
  {
   "cell_type": "code",
   "execution_count": 2,
   "metadata": {},
   "outputs": [],
   "source": [
    "data = np.load(\"x_data_sequentiel+all.npy\")"
   ]
  },
  {
   "cell_type": "code",
   "execution_count": 3,
   "metadata": {},
   "outputs": [],
   "source": [
    "# regression logistique\n",
    "from sklearn.model_selection import train_test_split\n",
    "x_train,x_test,y_train,y_test=train_test_split(data, np.squeeze(y_train.values[:, 1]))"
   ]
  },
  {
   "cell_type": "code",
   "execution_count": 4,
   "metadata": {},
   "outputs": [
    {
     "data": {
      "text/plain": [
       "(196225, 14)"
      ]
     },
     "execution_count": 4,
     "metadata": {},
     "output_type": "execute_result"
    }
   ],
   "source": [
    "x_train.shape"
   ]
  },
  {
   "cell_type": "code",
   "execution_count": 14,
   "metadata": {},
   "outputs": [
    {
     "name": "stdout",
     "output_type": "stream",
     "text": [
      "n_estimators = 322 \n",
      "accuracy = 0.5271292941338348\n"
     ]
    }
   ],
   "source": [
    "from sklearn.model_selection import cross_val_score\n",
    "import lightgbm as lgb\n",
    "\n",
    "n = 322\n",
    "clf = lgb.LGBMClassifier(n_estimators=n,num_leaves=10,learning_rate=0.07,\n",
    "                         max_depth=10, random_state=42,verbose=1)\n",
    "clf.fit(x_train, y_train)\n",
    "y_pred=clf.predict(x_test)\n",
    "matches=[int(y_pred[k]==np.array(y_test)[k]) for k in range(len(y_pred))]\n",
    "print(\"n_estimators =\", n, \"\\naccuracy =\", np.sum(matches)/len(y_pred))"
   ]
  },
  {
   "cell_type": "code",
   "execution_count": 15,
   "metadata": {},
   "outputs": [
    {
     "name": "stdout",
     "output_type": "stream",
     "text": [
      "n_estimators = 323 \n",
      "accuracy = 0.5271598709657692\n"
     ]
    }
   ],
   "source": [
    "from sklearn.model_selection import cross_val_score\n",
    "import lightgbm as lgb\n",
    "\n",
    "n = 323\n",
    "clf = lgb.LGBMClassifier(n_estimators=n,num_leaves=10,learning_rate=0.07,\n",
    "                         max_depth=10, random_state=42,verbose=1)\n",
    "clf.fit(x_train, y_train)\n",
    "y_pred=clf.predict(x_test)\n",
    "matches=[int(y_pred[k]==np.array(y_test)[k]) for k in range(len(y_pred))]\n",
    "print(\"n_estimators =\", n, \"\\naccuracy =\", np.sum(matches)/len(y_pred))"
   ]
  },
  {
   "cell_type": "code",
   "execution_count": 16,
   "metadata": {},
   "outputs": [
    {
     "name": "stdout",
     "output_type": "stream",
     "text": [
      "n_estimators = 325 \n",
      "accuracy = 0.5271751593817364\n"
     ]
    }
   ],
   "source": [
    "from sklearn.model_selection import cross_val_score\n",
    "import lightgbm as lgb\n",
    "\n",
    "n = 325\n",
    "clf = lgb.LGBMClassifier(n_estimators=n,num_leaves=10,learning_rate=0.07,\n",
    "                         max_depth=10, random_state=42,verbose=1)\n",
    "clf.fit(x_train, y_train)\n",
    "y_pred=clf.predict(x_test)\n",
    "matches=[int(y_pred[k]==np.array(y_test)[k]) for k in range(len(y_pred))]\n",
    "print(\"n_estimators =\", n, \"\\naccuracy =\", np.sum(matches)/len(y_pred))"
   ]
  },
  {
   "cell_type": "code",
   "execution_count": 17,
   "metadata": {},
   "outputs": [],
   "source": [
    "# test\n",
    "x_pred = np.load(\"y_pred_sequentiel.npy\")\n",
    "x_test = h5py.File(\"X_test.h5\", \"r\")[\"features\"]\n",
    "x_test = np.concatenate((x_test[:, :11], x_pred), axis=1)\n",
    "y_pred = clf.predict(x_test)\n",
    "with open(\"y_benchmark.csv\", \"w\") as f:\n",
    "    f.write(\"\".join([\"id,label\\n\"] + [\"{},{}\\n\".format(i, y) for i, y in enumerate(y_pred)]))"
   ]
  }
 ],
 "metadata": {
  "kernelspec": {
   "display_name": "Python 3",
   "language": "python",
   "name": "python3"
  },
  "language_info": {
   "codemirror_mode": {
    "name": "ipython",
    "version": 3
   },
   "file_extension": ".py",
   "mimetype": "text/x-python",
   "name": "python",
   "nbconvert_exporter": "python",
   "pygments_lexer": "ipython3",
   "version": "3.7.5"
  }
 },
 "nbformat": 4,
 "nbformat_minor": 2
}
