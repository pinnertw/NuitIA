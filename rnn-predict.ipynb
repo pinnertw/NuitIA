{
 "cells": [
  {
   "cell_type": "code",
   "execution_count": 2,
   "metadata": {},
   "outputs": [],
   "source": [
    "import numpy as np\n",
    "pred = np.load(\"y_pred_sequentiel.npy\")"
   ]
  },
  {
   "cell_type": "code",
   "execution_count": 3,
   "metadata": {},
   "outputs": [
    {
     "data": {
      "text/plain": [
       "array([[0.38091755, 0.34365928, 0.2754232 ],\n",
       "       [0.39327386, 0.35142553, 0.2553006 ],\n",
       "       [0.43778297, 0.30743852, 0.25477856],\n",
       "       [0.22760092, 0.39937147, 0.37302765],\n",
       "       [0.2708699 , 0.38510686, 0.34402323],\n",
       "       [0.34744352, 0.35799345, 0.29456303],\n",
       "       [0.22657877, 0.3502935 , 0.42312777],\n",
       "       [0.709741  , 0.17358874, 0.11667024],\n",
       "       [0.724802  , 0.15342095, 0.12177702],\n",
       "       [0.53110147, 0.2758302 , 0.19306831]], dtype=float32)"
      ]
     },
     "execution_count": 3,
     "metadata": {},
     "output_type": "execute_result"
    }
   ],
   "source": [
    "pred[:10]"
   ]
  },
  {
   "cell_type": "code",
   "execution_count": 5,
   "metadata": {},
   "outputs": [],
   "source": [
    "def choix(l):\n",
    "    if l[0] > l[1] and l[0] > l[2]:\n",
    "        return 0\n",
    "    elif l[1] > l[0] and l[1] > l[2]:\n",
    "        return 1\n",
    "    else:\n",
    "        return 2"
   ]
  },
  {
   "cell_type": "code",
   "execution_count": 7,
   "metadata": {},
   "outputs": [],
   "source": [
    "pred = [choix(i) for i in pred]"
   ]
  },
  {
   "cell_type": "code",
   "execution_count": 10,
   "metadata": {},
   "outputs": [],
   "source": [
    "with open(\"y_benchmark.csv\", \"w\") as f:\n",
    "    f.write(\"\".join([\"id,label\\n\"] + [\"{},{}\\n\".format(i, y) for i, y in enumerate(pred)]))"
   ]
  }
 ],
 "metadata": {
  "kernelspec": {
   "display_name": "Python 3",
   "language": "python",
   "name": "python3"
  },
  "language_info": {
   "codemirror_mode": {
    "name": "ipython",
    "version": 3
   },
   "file_extension": ".py",
   "mimetype": "text/x-python",
   "name": "python",
   "nbconvert_exporter": "python",
   "pygments_lexer": "ipython3",
   "version": "3.7.5"
  }
 },
 "nbformat": 4,
 "nbformat_minor": 2
}
